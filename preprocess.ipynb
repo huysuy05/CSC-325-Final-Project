{
 "cells": [
  {
   "cell_type": "code",
   "execution_count": null,
   "metadata": {},
   "outputs": [],
   "source": [
    "import pandas as pd \n",
    "import numpy as np\n",
    "import matplotlib.pyplot as plt\n",
    "import matplotlib\n",
    "import seaborn as sns"
   ]
  },
  {
   "cell_type": "code",
   "execution_count": null,
   "metadata": {},
   "outputs": [],
   "source": [
    "crime_data = pd.read_csv(\"./datasets/crawled_data.csv\")\n",
    "crime_data.head()"
   ]
  },
  {
   "cell_type": "code",
   "execution_count": null,
   "metadata": {},
   "outputs": [],
   "source": [
    "crime_data.info() #Get all the type of each column"
   ]
  },
  {
   "cell_type": "code",
   "execution_count": null,
   "metadata": {},
   "outputs": [],
   "source": [
    "crime_data.describe()"
   ]
  },
  {
   "cell_type": "code",
   "execution_count": null,
   "metadata": {},
   "outputs": [],
   "source": [
    "# Create a Year column to get more generality of the dataset\n",
    "crime_data[\"Date\"] = pd.to_datetime(crime_data[\"Date\"], format='%m/%d/%Y %I:%M:%S %p')\n",
    "crime_data[\"Year\"] = crime_data[\"Date\"].dt.year\n",
    "crime_data[\"Month\"] = crime_data[\"Date\"].dt.month\n",
    "\n",
    "# crime_data = crime_data.drop(columns=[\"Location\"])\n",
    "\n",
    "typeToDrop = {\n",
    "    'NON-CRIMINAL',\n",
    "    'OTHER OFFENSE',\n",
    "    'OTHER NARCOTIC VIOLATION',\n",
    "    'OBSCENITY',\n",
    "    'PUBLIC INDECENCY',\n",
    "    'CONCEALED CARRY LICENSE VIOLATION',\n",
    "    'LIQUOR LAW VIOLATION',\n",
    "    'GAMBLING',\n",
    "    'RITUALISM',\n",
    "}\n",
    "crime_data = crime_data[~crime_data['Primary Type'].isin(typeToDrop)]\n",
    "crime_data.columns\n",
    "\n"
   ]
  },
  {
   "cell_type": "code",
   "execution_count": null,
   "metadata": {},
   "outputs": [],
   "source": [
    "# --- OVERVIEW OF THE CRIME ---\n",
    "\n",
    "plt.figure(figsize=(30, 10))\n",
    "\n",
    "crime_types = crime_data.groupby('Primary Type', as_index=False).size()\n",
    "assault_types = crime_data[crime_data['Primary Type'] == 'ASSAULT'].groupby('Description', as_index=False).size()\n",
    "auto_theft_types = crime_data[crime_data['Primary Type'] == 'MOTOR VEHICLE THEFT'].groupby('Description', as_index=False).size()\n",
    "\n",
    "# plt.subplot(221)\n",
    "sns.barplot(x='Primary Type', y='size', data=crime_types.sort_values(by='size', ascending=False))\n",
    "plt.title('Crime Types Overview', fontsize='xx-large')\n",
    "plt.xlabel('Primary Type', fontsize='x-large')\n",
    "plt.ylabel('Crime Count', fontsize='x-large')\n",
    "plt.xticks(rotation=90)\n",
    "\n",
    "# plt.tight_layout()\n",
    "plt.show()\n"
   ]
  },
  {
   "cell_type": "code",
   "execution_count": null,
   "metadata": {},
   "outputs": [],
   "source": [
    "# --- OVERVIEW OF MOTOR VEHICLE THEFT ---\n",
    "\n",
    "# plt.subplot(223)\n",
    "sns.barplot(x='Description', y='size', data=auto_theft_types.sort_values(by='size', ascending=False))\n",
    "plt.title('Description Distribution in MOTOR VEHICLE THEFT', fontsize='xx-large')\n",
    "plt.xlabel('Description', fontsize='x-large')\n",
    "plt.ylabel('Count', fontsize='x-large')\n",
    "plt.xticks(rotation=90)\n",
    "# plt.tight_layout()"
   ]
  },
  {
   "cell_type": "code",
   "execution_count": null,
   "metadata": {},
   "outputs": [],
   "source": [
    "#  --- OVERVIEW OF ASSAULT ---\n",
    "\n",
    "sns.barplot(x='Description', y='size', data=assault_types.sort_values(by='size', ascending=False))\n",
    "plt.title('Description Distribution in ASSAULT', fontsize='xx-large')\n",
    "plt.xlabel('Description', fontsize='x-large')\n",
    "plt.ylabel('Count', fontsize='x-large')\n",
    "plt.xticks(rotation=90)"
   ]
  },
  {
   "cell_type": "code",
   "execution_count": null,
   "metadata": {},
   "outputs": [],
   "source": [
    "# --- PLOT BY YEAR ---\n",
    "\n",
    "yearly_crimes = crime_data.groupby('Year').size().reset_index(name='Total Crimes')\n",
    "plt.figure(figsize=(15, 6))\n",
    "sns.barplot(x='Year', y='Total Crimes', data=yearly_crimes, palette='Blues_d')\n",
    "\n",
    "plt.title('Total Crimes per Year in Chicago', fontsize=20)\n",
    "plt.xlabel('Year', fontsize=14)\n",
    "plt.ylabel('Number of Crimes', fontsize=14)\n",
    "plt.xticks(rotation=45)\n",
    "plt.show()"
   ]
  }
 ],
 "metadata": {
  "kernelspec": {
   "display_name": "Python 3",
   "language": "python",
   "name": "python3"
  },
  "language_info": {
   "codemirror_mode": {
    "name": "ipython",
    "version": 3
   },
   "file_extension": ".py",
   "mimetype": "text/x-python",
   "name": "python",
   "nbconvert_exporter": "python",
   "pygments_lexer": "ipython3",
   "version": "3.13.2"
  }
 },
 "nbformat": 4,
 "nbformat_minor": 2
}
