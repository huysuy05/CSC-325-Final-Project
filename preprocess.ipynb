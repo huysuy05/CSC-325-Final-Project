{
 "cells": [
  {
   "cell_type": "code",
   "execution_count": null,
   "metadata": {},
   "outputs": [],
   "source": [
    "import pandas as pd \n",
    "import numpy as np\n",
    "import matplotlib.pyplot as plt\n",
    "import matplotlib\n",
    "import seaborn as sns"
   ]
  },
  {
   "cell_type": "code",
   "execution_count": null,
   "metadata": {},
   "outputs": [],
   "source": [
    "crime_data = pd.read_csv(\"./datasets/crawled_data.csv\")\n",
    "crime_data.head()"
   ]
  },
  {
   "cell_type": "code",
   "execution_count": null,
   "metadata": {},
   "outputs": [],
   "source": [
    "crime_data.info() #Get all the type of each column"
   ]
  },
  {
   "cell_type": "code",
   "execution_count": null,
   "metadata": {},
   "outputs": [],
   "source": [
    "crime_data.describe()"
   ]
  },
  {
   "cell_type": "code",
   "execution_count": null,
   "metadata": {},
   "outputs": [],
   "source": [
    "# Create a Year column to get more generality of the dataset\n",
    "crime_data[\"Date\"] = pd.to_datetime(crime_data[\"Date\"], format='%m/%d/%Y %I:%M:%S %p')\n",
    "crime_data[\"Year\"] = crime_data[\"Date\"].dt.year\n",
    "crime_data[\"Month\"] = crime_data[\"Date\"].dt.month\n",
    "\n",
    "# crime_data = crime_data.drop(columns=[\"Location\"])\n",
    "\n",
    "typeToDrop = {\n",
    "    'NON-CRIMINAL',\n",
    "    'OTHER OFFENSE',\n",
    "    'OTHER NARCOTIC VIOLATION',\n",
    "    'OBSCENITY',\n",
    "    'PUBLIC INDECENCY',\n",
    "    'CONCEALED CARRY LICENSE VIOLATION',\n",
    "    'LIQUOR LAW VIOLATION',\n",
    "    'GAMBLING',\n",
    "    'RITUALISM',\n",
    "}\n",
    "crime_data = crime_data[~crime_data['Primary Type'].isin(typeToDrop)]\n",
    "crime_data.columns\n",
    "\n"
   ]
  },
  {
   "cell_type": "code",
   "execution_count": null,
   "metadata": {},
   "outputs": [],
   "source": [
    "# --- OVERVIEW OF THE CRIME ---\n",
    "\n",
    "plt.figure(figsize=(30, 10))\n",
    "\n",
    "crime_types = crime_data.groupby('Primary Type', as_index=False).size()\n",
    "assault_types = crime_data[crime_data['Primary Type'] == 'ASSAULT'].groupby('Description', as_index=False).size()\n",
    "auto_theft_types = crime_data[crime_data['Primary Type'] == 'MOTOR VEHICLE THEFT'].groupby('Description', as_index=False).size()\n",
    "\n",
    "# plt.subplot(221)\n",
    "sns.barplot(x='Primary Type', y='size', data=crime_types.sort_values(by='size', ascending=False))\n",
    "plt.title('Crime Types Overview', fontsize='xx-large')\n",
    "plt.xlabel('Primary Type', fontsize='x-large')\n",
    "plt.ylabel('Crime Count', fontsize='x-large')\n",
    "plt.xticks(rotation=90)\n",
    "\n",
    "# plt.tight_layout()\n",
    "plt.show()\n"
   ]
  },
  {
   "cell_type": "code",
   "execution_count": null,
   "metadata": {},
   "outputs": [],
   "source": [
    "# --- OVERVIEW OF MOTOR VEHICLE THEFT ---\n",
    "\n",
    "# plt.subplot(223)\n",
    "sns.barplot(x='Description', y='size', data=auto_theft_types.sort_values(by='size', ascending=False))\n",
    "plt.title('Description Distribution in MOTOR VEHICLE THEFT', fontsize='xx-large')\n",
    "plt.xlabel('Description', fontsize='x-large')\n",
    "plt.ylabel('Count', fontsize='x-large')\n",
    "plt.xticks(rotation=90)\n",
    "# plt.tight_layout()"
   ]
  },
  {
   "cell_type": "code",
   "execution_count": null,
   "metadata": {},
   "outputs": [],
   "source": [
    "#  --- OVERVIEW OF ASSAULT ---\n",
    "\n",
    "sns.barplot(x='Description', y='size', data=assault_types.sort_values(by='size', ascending=False))\n",
    "plt.title('Description Distribution in ASSAULT', fontsize='xx-large')\n",
    "plt.xlabel('Description', fontsize='x-large')\n",
    "plt.ylabel('Count', fontsize='x-large')\n",
    "plt.xticks(rotation=90)"
   ]
  },
  {
   "cell_type": "code",
   "execution_count": null,
   "metadata": {},
   "outputs": [],
   "source": [
    "# --- PLOT BY YEAR ---\n",
    "\n",
    "yearly_crimes = crime_data.groupby('Year').size().reset_index(name='Total Crimes')\n",
    "plt.figure(figsize=(15, 6))\n",
    "sns.barplot(x='Year', y='Total Crimes', data=yearly_crimes, palette='Blues_d')\n",
    "\n",
    "plt.title('Total Crimes per Year in Chicago', fontsize=20)\n",
    "plt.xlabel('Year', fontsize=14)\n",
    "plt.ylabel('Number of Crimes', fontsize=14)\n",
    "plt.xticks(rotation=45)\n",
    "plt.show()"
   ]
  },
  {
   "cell_type": "code",
   "execution_count": null,
   "metadata": {},
   "outputs": [],
   "source": [
    "# --- PLOTTING MONTHLY CRIME IN FROM 2020 TO 2024 ---\n",
    "\n",
    "# Map all the month in word format\n",
    "month_dict = {\n",
    "    1: \"January\",\n",
    "    2: \"February\",\n",
    "    3: \"March\",\n",
    "    4: \"April\",\n",
    "    5: \"May\",\n",
    "    6: \"June\",\n",
    "    7: \"July\",\n",
    "    8: \"August\",\n",
    "    9: \"September\",\n",
    "    10: \"October\",\n",
    "    11: \"November\",\n",
    "    12: \"December\"\n",
    "}\n",
    "\n",
    "# Data filter from crime_data\n",
    "crime_distribution = crime_data.groupby(by=[\"Year\", \"Month\"], dropna=False, as_index=False).size()\n",
    "crime_distribution = crime_distribution[crime_distribution[\"Year\"] < 2025]\n",
    "crime_distribution.rename(columns={'size': \"Crime Count\"}, inplace=True)\n",
    "crime_distribution['Year'] = crime_distribution[\"Year\"].astype(str)\n",
    "crime_distribution[\"Month\"] = crime_distribution[\"Month\"].map(month_dict)\n",
    "crime_distribution[\"MonthAndYear\"] = crime_distribution[\"Month\"] + \", \" + crime_distribution[\"Year\"]\n",
    "\n",
    "\n",
    "x = np.arange(len(crime_distribution))  # Numeric index for months (0 to length-1)\n",
    "coefficients = np.polyfit(x, crime_distribution[\"Crime Count\"], deg=1)  # Linear fit (slope and intercept)\n",
    "trend_line = np.polyval(coefficients, x)  # Evaluate the linear fit over x\n",
    "\n",
    "\n",
    "# Plot the time series\n",
    "plt.figure(figsize=(20,10))\n",
    "plt.grid('on')\n",
    "plt.plot(crime_distribution[\"MonthAndYear\"], crime_distribution[\"Crime Count\"], color=\"red\")\n",
    "plt.plot(crime_distribution[\"MonthAndYear\"], trend_line, color=\"blue\", label=\"Linear Trend\", linewidth=2)\n",
    "plt.xlabel(\"Month Stream\")\n",
    "plt.ylabel(\"Total crime count per month\")\n",
    "plt.xticks(np.arange(len(crime_distribution[\"Month\"])), rotation=90)\n",
    "plt.title(\"Monthly Crime Trends from 2020 to 2024\")\n",
    "plt.show()\n"
   ]
  },
  {
   "cell_type": "code",
   "execution_count": null,
   "metadata": {},
   "outputs": [],
   "source": [
    "# --- PLOTTING THE DATA IN A HEATMAP ---\n",
    "table = crime_distribution.pivot_table(index=\"Year\", columns=\"Month\", values=\"Crime Count\")\n",
    "plt.figure(figsize=(14, 6))\n",
    "sns.heatmap(table, annot=True, fmt=\".0f\", cmap=\"YlOrRd\", linewidths=0.5)\n",
    "plt.title(\"Monthly Crime Trends from 2020 to 2024\")\n",
    "plt.xlabel(\"Month\")\n",
    "plt.ylabel(\"Year\")\n",
    "plt.xticks(rotation=45)\n",
    "plt.tight_layout()\n",
    "plt.show()"
   ]
  }
 ],
 "metadata": {
  "kernelspec": {
   "display_name": "Python 3",
   "language": "python",
   "name": "python3"
  },
  "language_info": {
   "codemirror_mode": {
    "name": "ipython",
    "version": 3
   },
   "file_extension": ".py",
   "mimetype": "text/x-python",
   "name": "python",
   "nbconvert_exporter": "python",
   "pygments_lexer": "ipython3",
   "version": "3.13.2"
  }
 },
 "nbformat": 4,
 "nbformat_minor": 2
}
