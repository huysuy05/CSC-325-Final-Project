{
 "cells": [
  {
   "cell_type": "code",
   "execution_count": null,
   "metadata": {},
   "outputs": [],
   "source": [
    "import pandas as pd"
   ]
  },
  {
   "cell_type": "code",
   "execution_count": null,
   "metadata": {},
   "outputs": [],
   "source": [
    "data = pd.read_csv(\"crawled_data.csv\")\n",
    "data.info()"
   ]
  },
  {
   "cell_type": "code",
   "execution_count": null,
   "metadata": {},
   "outputs": [],
   "source": [
    "# --- FEATURE SELECTION ---\n",
    "necessary_columns = [\n",
    "    'ID', 'Case Number', 'Date', 'Primary Type', 'Description',\n",
    "    'Location Description', 'Arrest', 'Domestic', 'District',\n",
    "    'Ward', 'Community Area', 'Year', 'Month', 'Latitude', 'Longitude'\n",
    "]\n",
    "cleaned_data = data[necessary_columns]"
   ]
  },
  {
   "cell_type": "code",
   "execution_count": null,
   "metadata": {},
   "outputs": [],
   "source": [
    "# --- DROP UNECCESSARY VALUES IN PRIMARY TYPE ---\n",
    "\n",
    "typeToDrop = {\n",
    "    'NON-CRIMINAL',\n",
    "    'OTHER OFFENSE',\n",
    "    'OTHER NARCOTIC VIOLATION',\n",
    "    'OBSCENITY',\n",
    "    'PUBLIC INDECENCY',\n",
    "    'CONCEALED CARRY LICENSE VIOLATION',\n",
    "    'LIQUOR LAW VIOLATION',\n",
    "    'GAMBLING',\n",
    "    'RITUALISM',\n",
    "}\n",
    "cleaned_data = cleaned_data[~cleaned_data['Primary Type'].isin(typeToDrop)]\n",
    "cleaned_data.shape"
   ]
  },
  {
   "cell_type": "code",
   "execution_count": null,
   "metadata": {},
   "outputs": [],
   "source": [
    "# --- ADD THE COUNT OF PRIMARY TYPE INTO THE DATAFRAME ---\n",
    "cleaned_data[\"primary_type_count\"] = cleaned_data.groupby(\"Primary Type\")[\"Primary Type\"].transform(\"count\")\n",
    "cleaned_data[\"primary_type_count\"]"
   ]
  },
  {
   "cell_type": "code",
   "execution_count": null,
   "metadata": {},
   "outputs": [],
   "source": [
    "# --- ADD THE TOTAL CRIMES PER YEAR ---\n",
    "\n",
    "cleaned_data[\"total_crimes_per_yr\"] = cleaned_data.groupby(\"Year\")[\"Year\"].transform(\"count\")\n",
    "cleaned_data[\"total_crimes_per_yr\"]"
   ]
  },
  {
   "cell_type": "code",
   "execution_count": null,
   "metadata": {},
   "outputs": [],
   "source": [
    "# --- ADDING MONTHLY TOTAL ---\n",
    "\n",
    "monthly_counts = cleaned_data.groupby([\"Year\", \"Month\"]).size().reset_index(name=\"monthly_crime_count\")\n",
    "cleaned_data = cleaned_data.merge(monthly_counts, on=[\"Year\", \"Month\"], how=\"left\")\n",
    "cleaned_data[\"monthly_crime_count\"] = cleaned_data[\"monthly_crime_count_y\"]\n",
    "cleaned_data.drop(columns=[\"monthly_crime_count_x\", \"monthly_crime_count_y\"], inplace=True)\n",
    "cleaned_data"
   ]
  },
  {
   "cell_type": "code",
   "execution_count": null,
   "metadata": {},
   "outputs": [],
   "source": [
    "# Function to generalize all the specific location description\n",
    "def generalize_location(loc_desc):\n",
    "  # Handle none values\n",
    "  if pd.isna(loc_desc):\n",
    "    return \"Other\"\n",
    "  loc_desc = str(loc_desc).upper()\n",
    "  # Residential\n",
    "  if any(keyword in loc_desc for keyword in [\"RESIDENCE\", \"APARTMENT\", \"HOUSE\", \"CHA APARTMENT\", \"RESIDENTIAL\", \"PORCH\", \"YARD\", \"GARAGE\", \"BASEMENT\", \"VESTIBULE\", \"HALLWAY\"]):\n",
    "      return \"Residential\"\n",
    "  # Public Transportation\n",
    "  elif any(keyword in loc_desc for keyword in [\"CTA\", \"TRAIN\", \"BUS\", \"SUBWAY\", \"PLATFORM\", \"STATION\", \"RAILROAD\"]):\n",
    "      return \"Public Transportation\"\n",
    "  # Commercial\n",
    "  elif any(keyword in loc_desc for keyword in [\"STORE\", \"RESTAURANT\", \"BAR \", \"TAVERN\", \"HOTEL\", \"MOTEL\", \"BANK\", \"CURRENCY EXCHANGE\", \"GAS STATION\", \"OFFICE\", \"WAREHOUSE\", \"FACTORY\", \"LIQUOR\", \"BARBER\", \"BEAUTY SALON\", \"PAWN SHOP\", \"ATM\", \"CASINO\"]):\n",
    "      return \"Commercial\"\n",
    "  # Street/Outdoor\n",
    "  elif any(keyword in loc_desc for keyword in [\"STREET\", \"SIDEWALK\", \"ALLEY\", \"PARKING LOT\", \"VACANT LOT\", \"PARK PROPERTY\", \"LAKEFRONT\", \"RIVERBANK\", \"FOREST PRESERVE\", \"BRIDGE\", \"HIGHWAY\", \"GANGWAY\", \"DRIVEWAY\"]):\n",
    "      return \"Street/Outdoor\"\n",
    "  # Institutional\n",
    "  elif any(keyword in loc_desc for keyword in [\"SCHOOL\", \"HOSPITAL\", \"CHURCH\", \"SYNAGOGUE\", \"GOVERNMENT\", \"LIBRARY\", \"POLICE\", \"FIRE STATION\", \"NURSING HOME\", \"DAY CARE\", \"COLLEGE\", \"UNIVERSITY\"]):\n",
    "      return \"Institutional\"\n",
    "  # Airport\n",
    "  elif any(keyword in loc_desc for keyword in [\"AIRPORT\", \"AIRCRAFT\"]):\n",
    "      return \"Airport\"\n",
    "  # Vehicle\n",
    "  elif any(keyword in loc_desc for keyword in [\"VEHICLE\", \"AUTO\", \"TAXICAB\", \"UBER\", \"LYFT\", \"TRUCK\", \"BOAT\"]):\n",
    "      return \"Vehicle\"\n",
    "  # Other\n",
    "  else:\n",
    "      return \"Other\"\n",
    "\n",
    "\n",
    "cleaned_data[\"generalized_loc\"] = cleaned_data[\"Location Description\"].apply(generalize_location)\n",
    "cleaned_data"
   ]
  },
  {
   "cell_type": "code",
   "execution_count": null,
   "metadata": {},
   "outputs": [],
   "source": [
    "# cleaned_data.drop(columns=[\"Location Description\"], inplace=True)\n",
    "cleaned_data"
   ]
  },
  {
   "cell_type": "code",
   "execution_count": null,
   "metadata": {},
   "outputs": [],
   "source": [
    "# --- TOTAL COUNT BY LONGITUDE AND LATTITUDE ---\n",
    "\n",
    "cleaned_data[\"Lat_round\"] = cleaned_data[\"Latitude\"].round(3)\n",
    "cleaned_data[\"Lon_round\"] = cleaned_data[\"Longitude\"].round(3)\n",
    "location_counts = cleaned_data.groupby([\"Lat_round\", \"Lon_round\"]).size().reset_index(name=\"location_crime_count\")\n",
    "cleaned_data = cleaned_data.merge(location_counts, on=[\"Lat_round\", \"Lon_round\"], how=\"left\")\n",
    "cleaned_data"
   ]
  },
  {
   "cell_type": "code",
   "execution_count": null,
   "metadata": {},
   "outputs": [],
   "source": [
    "# cleaned_data.drop(columns=[\"Latitude\", \"Longitude\"], inplace=True)\n",
    "cleaned_data.to_csv(\"cleaned_crime_data.csv\", index=False)\n",
    "# cleaned_data"
   ]
  }
 ],
 "metadata": {
  "language_info": {
   "name": "python"
  }
 },
 "nbformat": 4,
 "nbformat_minor": 2
}
